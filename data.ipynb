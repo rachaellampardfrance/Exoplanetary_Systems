{
 "cells": [
  {
   "cell_type": "markdown",
   "metadata": {},
   "source": [
    "Steller Hosts Data"
   ]
  },
  {
   "cell_type": "markdown",
   "metadata": {},
   "source": [
    "All data from NASAs Steller Hosts database DOI: 10.26133/NEA40"
   ]
  },
  {
   "cell_type": "code",
   "execution_count": 2,
   "metadata": {},
   "outputs": [],
   "source": [
    "from astroquery.utils.tap.core import TapPlus\n",
    "from io import StringIO\n",
    "from matplotlib import pyplot as plt\n",
    "import pandas as pd"
   ]
  },
  {
   "cell_type": "code",
   "execution_count": 4,
   "metadata": {},
   "outputs": [],
   "source": [
    "# check the schema of the data, as there are 134 columns I've saved the data as a csv file for easier referal/reading to see what data I would like to work with\n",
    "tap_service = TapPlus(url=\"https://exoplanetarchive.ipac.caltech.edu/TAP\")\n",
    "query = \"SELECT * FROM TAP_SCHEMA.columns WHERE table_name LIKE 'stellarhosts'\"\n",
    "job = tap_service.launch_job(query)\n",
    "\n",
    "result_csv = job.get_results().to_pandas().to_csv(index=False)\n",
    "stellar_hosts_schema = pd.read_csv(StringIO(result_csv))\n",
    "stellar_hosts_schema.to_csv('stellar_hosts_schema.csv', index=False)"
   ]
  },
  {
   "cell_type": "code",
   "execution_count": 5,
   "metadata": {},
   "outputs": [
    {
     "name": "stdout",
     "output_type": "stream",
     "text": [
      "INFO: Query finished. [astroquery.utils.tap.core]\n"
     ]
    }
   ],
   "source": [
    "# make spefic query for the specific columns wanted \n",
    "tap_service = TapPlus(url=\"https://exoplanetarchive.ipac.caltech.edu/TAP\")\n",
    "query = \"SELECT sy_name, sy_snum, sy_pnum, sy_mnum, cb_flag, st_spectype FROM stellarhosts\"\n",
    "job = tap_service.launch_job_async(query)\n",
    "\n",
    "# save stellar_hosts as dataframe and file for reference \n",
    "result_csv = job.get_results().to_pandas().to_csv(index=False)\n",
    "stellar_hosts = pd.read_csv(StringIO(result_csv))\n",
    "stellar_hosts.to_csv('stellar_hosts.csv', index=False)"
   ]
  },
  {
   "cell_type": "markdown",
   "metadata": {},
   "source": [
    "The database that is being searched is a list of planets and suns within star systems in the universe.\n",
    "The question we're intrested is simple for the sake of learning, how does the frequency of stars in a system affect the frequency of planets, if it does at all? Since I have also added the cb_flag an int value where 0 = false and 1 = true inrelation to if the planet orbits a binary star system (this data may or may not be used). \n",
    "\n",
    "To answer this question we have searched the NASA archives via TAP (table access protocol) to gather the schema from stellar hosts, as we knew this is the database we wanted to access in advance, otherwise we could have made a query which would have returned what tables we could access and chosen from there.\n",
    "    Once we have the TAP set up for the table we want to query, we can create a query variable which is a SQL string, then we launch a job which runs the query on the Tap service. The results of the query need to be converted into a csv file as the default is returned as a VOTable file. Then we need to read the csv file into a pandas dataframe. I also created a csv file for debugging purposes as working with these libraries and with data is new to me."
   ]
  },
  {
   "cell_type": "code",
   "execution_count": null,
   "metadata": {},
   "outputs": [],
   "source": [
    "# tap_service = TapPlus(url=\"https://exoplanetarchive.ipac.caltech.edu/TAP\")\n",
    "# query = \"SELECT count(sy_name) FROM stellarhosts\"\n",
    "# job = tap_service.launch_job_async(query)\n",
    "\n",
    "# result_csv = job.get_results().to_pandas().to_csv(index=False)\n",
    "# stellar_hosts_count = pd.read_csv(StringIO(result_csv))\n",
    "# stellar_hosts_count"
   ]
  },
  {
   "cell_type": "markdown",
   "metadata": {},
   "source": [
    "The above was made as a test script, as I was only getting 2000 rows back from my stellar hosts database, the perfectly rounded number was suspicious and I checked the online database to find that there should be over 4000 rows of data. I thought that by getting the Tap query to return the count of rows I could see the amount of data I should be receiving but instead I was also being returned with a 2000 count, so it appeared that the amount of returned rows wasn't an issue, but the process itself. I did some searching online and returned to a reference on NASA's site regarding Synchronous and Asynchronous queries, I had assumed that it was file sized and assumed that the automatic synchronous search would be adequate. But I was incorrect and changed the launch_job to launch_job_async and now was receiving all of the data from the database with the data I required.    "
   ]
  },
  {
   "cell_type": "code",
   "execution_count": 19,
   "metadata": {},
   "outputs": [
    {
     "data": {
      "text/html": [
       "<div>\n",
       "<style scoped>\n",
       "    .dataframe tbody tr th:only-of-type {\n",
       "        vertical-align: middle;\n",
       "    }\n",
       "\n",
       "    .dataframe tbody tr th {\n",
       "        vertical-align: top;\n",
       "    }\n",
       "\n",
       "    .dataframe thead th {\n",
       "        text-align: right;\n",
       "    }\n",
       "</style>\n",
       "<table border=\"1\" class=\"dataframe\">\n",
       "  <thead>\n",
       "    <tr style=\"text-align: right;\">\n",
       "      <th></th>\n",
       "      <th>sy_name</th>\n",
       "      <th>sy_snum</th>\n",
       "      <th>sy_pnum</th>\n",
       "      <th>cb_flag</th>\n",
       "    </tr>\n",
       "  </thead>\n",
       "  <tbody>\n",
       "    <tr>\n",
       "      <th>8215</th>\n",
       "      <td>11 Com</td>\n",
       "      <td>2</td>\n",
       "      <td>1</td>\n",
       "      <td>0</td>\n",
       "    </tr>\n",
       "    <tr>\n",
       "      <th>23063</th>\n",
       "      <td>11 Com</td>\n",
       "      <td>2</td>\n",
       "      <td>1</td>\n",
       "      <td>0</td>\n",
       "    </tr>\n",
       "    <tr>\n",
       "      <th>25734</th>\n",
       "      <td>11 Com</td>\n",
       "      <td>2</td>\n",
       "      <td>1</td>\n",
       "      <td>0</td>\n",
       "    </tr>\n",
       "    <tr>\n",
       "      <th>27242</th>\n",
       "      <td>11 Com</td>\n",
       "      <td>2</td>\n",
       "      <td>1</td>\n",
       "      <td>0</td>\n",
       "    </tr>\n",
       "    <tr>\n",
       "      <th>39197</th>\n",
       "      <td>11 Com</td>\n",
       "      <td>2</td>\n",
       "      <td>1</td>\n",
       "      <td>0</td>\n",
       "    </tr>\n",
       "    <tr>\n",
       "      <th>...</th>\n",
       "      <td>...</td>\n",
       "      <td>...</td>\n",
       "      <td>...</td>\n",
       "      <td>...</td>\n",
       "    </tr>\n",
       "    <tr>\n",
       "      <th>20989</th>\n",
       "      <td>xi Aql</td>\n",
       "      <td>1</td>\n",
       "      <td>1</td>\n",
       "      <td>0</td>\n",
       "    </tr>\n",
       "    <tr>\n",
       "      <th>28224</th>\n",
       "      <td>xi Aql</td>\n",
       "      <td>1</td>\n",
       "      <td>1</td>\n",
       "      <td>0</td>\n",
       "    </tr>\n",
       "    <tr>\n",
       "      <th>15226</th>\n",
       "      <td>xi Aql</td>\n",
       "      <td>1</td>\n",
       "      <td>1</td>\n",
       "      <td>0</td>\n",
       "    </tr>\n",
       "    <tr>\n",
       "      <th>11554</th>\n",
       "      <td>xi Aql</td>\n",
       "      <td>1</td>\n",
       "      <td>1</td>\n",
       "      <td>0</td>\n",
       "    </tr>\n",
       "    <tr>\n",
       "      <th>15264</th>\n",
       "      <td>xi Aql</td>\n",
       "      <td>1</td>\n",
       "      <td>1</td>\n",
       "      <td>0</td>\n",
       "    </tr>\n",
       "  </tbody>\n",
       "</table>\n",
       "<p>44811 rows × 4 columns</p>\n",
       "</div>"
      ],
      "text/plain": [
       "      sy_name  sy_snum  sy_pnum  cb_flag\n",
       "8215   11 Com        2        1        0\n",
       "23063  11 Com        2        1        0\n",
       "25734  11 Com        2        1        0\n",
       "27242  11 Com        2        1        0\n",
       "39197  11 Com        2        1        0\n",
       "...       ...      ...      ...      ...\n",
       "20989  xi Aql        1        1        0\n",
       "28224  xi Aql        1        1        0\n",
       "15226  xi Aql        1        1        0\n",
       "11554  xi Aql        1        1        0\n",
       "15264  xi Aql        1        1        0\n",
       "\n",
       "[44811 rows x 4 columns]"
      ]
     },
     "execution_count": 19,
     "metadata": {},
     "output_type": "execute_result"
    }
   ],
   "source": [
    "# check dataframe\n",
    "stellar_hosts"
   ]
  },
  {
   "cell_type": "markdown",
   "metadata": {},
   "source": [
    "The above is a truncated print out of the stellar_hosts dataframe created from the NASA database to get a preview of the dataframe.\n",
    "\n",
    "From the stellar_hosts data frame we can see that there is a lot of NaN values from st_spectype so lets see how many null variables there are in this data type..."
   ]
  },
  {
   "cell_type": "code",
   "execution_count": 7,
   "metadata": {},
   "outputs": [
    {
     "data": {
      "text/plain": [
       "sy_name            0\n",
       "sy_snum            0\n",
       "sy_pnum            0\n",
       "sy_mnum            0\n",
       "cb_flag            0\n",
       "st_spectype    41636\n",
       "dtype: int64"
      ]
     },
     "execution_count": 7,
     "metadata": {},
     "output_type": "execute_result"
    }
   ],
   "source": [
    "stellar_hosts.isnull().sum()"
   ]
  },
  {
   "cell_type": "markdown",
   "metadata": {},
   "source": [
    "The isnull sum is extremely high in relation to the amount of data that we have."
   ]
  },
  {
   "cell_type": "code",
   "execution_count": 8,
   "metadata": {},
   "outputs": [],
   "source": [
    "stellar_hosts = stellar_hosts.dropna(axis=1)"
   ]
  },
  {
   "cell_type": "markdown",
   "metadata": {},
   "source": [
    "As this particular data is not important for the question we are trying to answer, I am happy for the purposes of this test to drop this column. axis 1 refers to a column where as axis = 0 would have dropped any rows that na values in the st_spectype (star spectra type) and we don't want to get rid of all the rows just the column of data which is not required for our data. \n",
    "\n",
    "After executing the code above we can re-run the 'stellar_hosts' code to check that the data has been dropped."
   ]
  },
  {
   "cell_type": "code",
   "execution_count": 11,
   "metadata": {},
   "outputs": [],
   "source": [
    "stellar_hosts = stellar_hosts.sort_values(by=['sy_name'])"
   ]
  },
  {
   "cell_type": "markdown",
   "metadata": {},
   "source": [
    "We can sort the systems by alphanumeric names (by personal choice)"
   ]
  },
  {
   "cell_type": "code",
   "execution_count": 13,
   "metadata": {},
   "outputs": [
    {
     "data": {
      "text/plain": [
       "cb_flag\n",
       "False    44517\n",
       "True       294\n",
       "Name: sy_name, dtype: int64"
      ]
     },
     "execution_count": 13,
     "metadata": {},
     "output_type": "execute_result"
    }
   ],
   "source": [
    "stellar_hosts.groupby(stellar_hosts.cb_flag > 0).sy_name.count()"
   ]
  },
  {
   "cell_type": "markdown",
   "metadata": {},
   "source": [
    "We can see that from the truncated data there is a lot of 0's in the output of cb_flag (Circumbinary Flag - where there is a binary star system), so the above code lets us see how many systems contain a binary star sytem if any."
   ]
  },
  {
   "cell_type": "code",
   "execution_count": 17,
   "metadata": {},
   "outputs": [
    {
     "data": {
      "text/plain": [
       "sy_mnum\n",
       "False    44811\n",
       "Name: sy_name, dtype: int64"
      ]
     },
     "execution_count": 17,
     "metadata": {},
     "output_type": "execute_result"
    }
   ],
   "source": [
    "# check for moons in systems\n",
    "stellar_hosts.groupby(stellar_hosts.sy_mnum > 0).sy_name.count()"
   ]
  },
  {
   "cell_type": "markdown",
   "metadata": {},
   "source": [
    "The truncated dataframe also showed a lot of 0 values for sy_mnum (moons in the system) so lets see how many verified moons there are.\n",
    "As we can see from running the code above, none of these systems have been recorded as containing moons, as all systems return false when grouped by containing atleast 1 moon. As this data isn't important for the question I want to answer I am happy to remove the series from the dataframe."
   ]
  },
  {
   "cell_type": "code",
   "execution_count": 18,
   "metadata": {},
   "outputs": [],
   "source": [
    "stellar_hosts = stellar_hosts.drop('sy_mnum', axis = 1)"
   ]
  },
  {
   "cell_type": "markdown",
   "metadata": {},
   "source": [
    "The sy_mnum column has been dropped from the stellar_hosts database, lets run the 'stellar_hosts' code in one of the previous nodes to make sure it worked."
   ]
  },
  {
   "cell_type": "code",
   "execution_count": 20,
   "metadata": {},
   "outputs": [
    {
     "data": {
      "text/plain": [
       "np.int64(4290)"
      ]
     },
     "execution_count": 20,
     "metadata": {},
     "output_type": "execute_result"
    }
   ],
   "source": [
    "#stellar_hosts.duplicated()\n",
    "stellar_hosts = stellar_hosts.drop_duplicates()\n",
    "stellar_hosts.sy_name.count().sum()"
   ]
  },
  {
   "cell_type": "markdown",
   "metadata": {},
   "source": [
    "Above we are re-moving duplicate data from the dataframe, as NASA's Stellar Hosts rows may contain information on various stellar bodies, we only want the individual system information which is duplicated for each row of a stellar body within a system, for this reason we are removing any data which is duplicated and will drastically reduce the data we are working from as many systems have atleast one star and planet which effecitvely doubles the data in this instance alone. To reduce duplicate data we need to remove these.\n",
    "    stellar_hosts.sy_name.count().sum() allows us the see the amount of rows now in our dataframe which is drastically different from what we started with."
   ]
  },
  {
   "cell_type": "code",
   "execution_count": 31,
   "metadata": {},
   "outputs": [],
   "source": [
    "star = stellar_hosts.sy_snum.max()\n",
    "planet = stellar_hosts.sy_pnum.max()\n",
    "\n",
    "p_to_s_freq_df = pd.DataFrame(columns=['star_planet_count', 'frequency'])\n",
    "\n",
    "# index counter for writing the frequency dataframe\n",
    "x = 0\n",
    "i = 1\n",
    "# iterate over possible star counts\n",
    "while i < star + 1:\n",
    "    # set to 0 and iterate over possible planet counts\n",
    "    j = 1\n",
    "    while j < planet + 1:\n",
    "        # make the star count == to star iteration & make planet count == to planet count itteration\n",
    "        ss_df = stellar_hosts[(stellar_hosts['sy_snum'] == i) & (stellar_hosts['sy_pnum'] == j)]\n",
    "        # add the count of occurances to count\n",
    "        count = len(ss_df)\n",
    "        if count > 0:\n",
    "            p_to_s_freq_df.loc[x] = [str(i) + 'Stars ' + str(j) + 'Planets', count]\n",
    "            x += 1\n",
    "        # write into data frame making the reference == the star and planet count and setting the frequency to the counter\n",
    "        j += 1\n",
    "    i += 1\n",
    "\n",
    "p_to_s_freq_df.to_csv('p_to_s_freq_df.csv', index=False)"
   ]
  },
  {
   "cell_type": "markdown",
   "metadata": {},
   "source": [
    "Here we are iterating over the data with a nested loop, the first loop is in relation to the count of stars and the second is in relation to the count of planets. These iterative values are used so that we can see for each count of planets how often they are found within a system with each count of planets. Then the frequency in which each of these cases occurs is added into a new frequency dataframe with the star and planet count referenced in the name for data reference. As there are many counts of star systems that may contain no planets if the frequency is 0 the series will not be added to the new dataframe and the data will be left out (this is by choice but can easily be represented if desired for visual reasons)."
   ]
  },
  {
   "cell_type": "code",
   "execution_count": 37,
   "metadata": {},
   "outputs": [
    {
     "data": {
      "image/png": "[encoded data removed]",
      "text/plain": [
       "<Figure size 640x480 with 1 Axes>"
      ]
     },
     "metadata": {},
     "output_type": "display_data"
    }
   ],
   "source": [
    "plt.bar(x=p_to_s_freq_df.star_planet_count, height=p_to_s_freq_df.frequency, color=\"orange\")\n",
    "\n",
    "plt.title(\"Frequency of Planets to Stars in Star Systems\")\n",
    "plt.xlabel(\"Stars to Planets\")\n",
    "plt.ylabel(\"Frequency\")\n",
    "plt.xticks(rotation=90)\n",
    "\n",
    "plt.show()"
   ]
  },
  {
   "cell_type": "code",
   "execution_count": null,
   "metadata": {},
   "outputs": [],
   "source": [
    "# check the comonality of those being binary star systems\n"
   ]
  },
  {
   "cell_type": "code",
   "execution_count": 25,
   "metadata": {},
   "outputs": [
    {
     "data": {
      "image/png": "[encoded data removed]",
      "text/plain": [
       "<Figure size 1000x400 with 2 Axes>"
      ]
     },
     "metadata": {},
     "output_type": "display_data"
    }
   ],
   "source": [
    "fig, ax = plt.subplots(1, 2, figsize=(10, 4))\n",
    "\n",
    "ax[0].bar(x=p_to_s_freq_df.star_planet_count, height=p_to_s_freq_df.frequency, color=\"orange\")\n",
    "lable = p_to_s_freq_df.star_planet_count\n",
    "ax[0].set_title(\"Frequency of Planets by Stars in system\")\n",
    "ax[0].set_xlabel(\"Stars to Planets\")\n",
    "ax[0].set_ylabel(\"Frequency\")\n",
    "# found how to rotate figure labels from stackoverflow \n",
    "for label in ax[0].get_xticklabels():\n",
    "    label.set_rotation(90)\n",
    "\n",
    "#ax[1].boxplot(sy_planet)"
   ]
  }
 ],
 "metadata": {
  "kernelspec": {
   "display_name": "base",
   "language": "python",
   "name": "python3"
  },
  "language_info": {
   "codemirror_mode": {
    "name": "ipython",
    "version": 3
   },
   "file_extension": ".py",
   "mimetype": "text/x-python",
   "name": "python",
   "nbconvert_exporter": "python",
   "pygments_lexer": "ipython3",
   "version": "3.12.5"
  }
 },
 "nbformat": 4,
 "nbformat_minor": 2
}

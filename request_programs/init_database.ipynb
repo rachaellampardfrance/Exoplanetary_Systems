{
 "cells": [
  {
   "cell_type": "code",
   "execution_count": 1,
   "metadata": {},
   "outputs": [],
   "source": [
    "import sqlite3\n",
    "import pandas as pd\n",
    "\n",
    "from helpers import tap_request, clean_data"
   ]
  },
  {
   "cell_type": "markdown",
   "metadata": {},
   "source": [
    "## connect"
   ]
  },
  {
   "cell_type": "code",
   "execution_count": 2,
   "metadata": {},
   "outputs": [],
   "source": [
    "conn = sqlite3.connect(\"../database.db\")\n",
    "# conn = sqlite3.connect(\"test_database.db\")\n",
    "cursor = conn.cursor()"
   ]
  },
  {
   "cell_type": "markdown",
   "metadata": {},
   "source": [
    "## Commit and Close connection"
   ]
  },
  {
   "cell_type": "code",
   "execution_count": 5,
   "metadata": {},
   "outputs": [],
   "source": [
    "conn.commit()\n",
    "conn.close()"
   ]
  },
  {
   "cell_type": "markdown",
   "metadata": {},
   "source": [
    "## Planets"
   ]
  },
  {
   "cell_type": "markdown",
   "metadata": {},
   "source": [
    "### Delete"
   ]
  },
  {
   "cell_type": "code",
   "execution_count": null,
   "metadata": {},
   "outputs": [],
   "source": [
    "# conn.execute(\"\"\"DROP TABLE IF EXISTS planets\"\"\")"
   ]
  },
  {
   "cell_type": "markdown",
   "metadata": {},
   "source": [
    "### Create"
   ]
  },
  {
   "cell_type": "code",
   "execution_count": null,
   "metadata": {},
   "outputs": [],
   "source": [
    "conn.execute(\"\"\"\n",
    "CREATE TABLE planets (\n",
    "    pl_name TEXT PRIMARY KEY NOT NULL,\n",
    "    hostname TEXT,\n",
    "    cb_flag INTEGER,\n",
    "    cv_flag INTEGER,\n",
    "    disc_method TEXT,\n",
    "    disc_instrument TEXT,\n",
    "    orbit_period REAL,\n",
    "    mass REAL,\n",
    "    radius REAL,\n",
    "    insol_flux REAL,\n",
    "    equlib_temp REAL,\n",
    "    disc_pubdate TEXT,\n",
    "    declassified INTEGER,\n",
    "    last_updated DATETIME DEFAULT current_timestamp\n",
    ");\n",
    "\"\"\")"
   ]
  },
  {
   "cell_type": "markdown",
   "metadata": {},
   "source": [
    "### Checks"
   ]
  },
  {
   "cell_type": "markdown",
   "metadata": {},
   "source": [
    "##### Table Meta Data"
   ]
  },
  {
   "cell_type": "code",
   "execution_count": null,
   "metadata": {},
   "outputs": [],
   "source": [
    "pd.read_sql_query(\"\"\"PRAGMA table_info('planets');\"\"\", conn)"
   ]
  },
  {
   "cell_type": "markdown",
   "metadata": {},
   "source": [
    "##### All"
   ]
  },
  {
   "cell_type": "code",
   "execution_count": null,
   "metadata": {},
   "outputs": [],
   "source": [
    "pd.read_sql_query(\"\"\"SELECT * FROM planets LIMIT(5)\"\"\", conn)"
   ]
  },
  {
   "cell_type": "markdown",
   "metadata": {},
   "source": [
    "##### Count"
   ]
  },
  {
   "cell_type": "code",
   "execution_count": null,
   "metadata": {},
   "outputs": [],
   "source": [
    "pd.read_sql_query(\"SELECT COUNT(pl_name) FROM planets\", conn)"
   ]
  },
  {
   "cell_type": "markdown",
   "metadata": {},
   "source": [
    "##### All planetary systems by hostname from systems"
   ]
  },
  {
   "cell_type": "code",
   "execution_count": null,
   "metadata": {},
   "outputs": [],
   "source": [
    "pd.read_sql_query(\"\"\"\n",
    "SELECT *\n",
    "FROM   planets\n",
    "WHERE  hostname=(\n",
    "  SELECT sy_name \n",
    "  FROM   systems\n",
    "  WHERE  sy_name='14 Her'\n",
    "  )\n",
    "\"\"\", conn)"
   ]
  },
  {
   "cell_type": "markdown",
   "metadata": {},
   "source": [
    "##### get most recent discovery public date"
   ]
  },
  {
   "cell_type": "code",
   "execution_count": null,
   "metadata": {},
   "outputs": [],
   "source": [
    "pd.read_sql_query(\"\"\"\n",
    "SELECT * FROM planets\n",
    " WHERE disc_pubdate = (\n",
    "  SELECT MAX(disc_pubdate)\n",
    "    FROM planets\n",
    ");\"\"\", conn)"
   ]
  },
  {
   "cell_type": "markdown",
   "metadata": {},
   "source": [
    "##### check none search"
   ]
  },
  {
   "cell_type": "code",
   "execution_count": null,
   "metadata": {},
   "outputs": [],
   "source": [
    "body_name = 'asdf'\n",
    "\n",
    "cursor.execute(f\"\"\"\n",
    "    SELECT hostname\n",
    "    FROM planets\n",
    "    WHERE pl_name='{body_name}';\n",
    "\"\"\")\n",
    "print(cursor.fetchone())\n"
   ]
  },
  {
   "cell_type": "markdown",
   "metadata": {},
   "source": [
    "## Systems"
   ]
  },
  {
   "cell_type": "markdown",
   "metadata": {},
   "source": [
    "### Delete"
   ]
  },
  {
   "cell_type": "code",
   "execution_count": null,
   "metadata": {},
   "outputs": [],
   "source": [
    "# conn.execute(\"\"\"DROP TABLE IF EXISTS systems\"\"\")"
   ]
  },
  {
   "cell_type": "markdown",
   "metadata": {},
   "source": [
    "### Create"
   ]
  },
  {
   "cell_type": "code",
   "execution_count": null,
   "metadata": {},
   "outputs": [],
   "source": [
    "conn.execute(\"\"\"\n",
    "CREATE TABLE systems (\n",
    "    sy_name TEXT PRIMARY KEY NOT NULL,\n",
    "    sy_snum INTEGER,\n",
    "    sy_pnum INTEGER,\n",
    "    last_updated DATETIME DEFAULT current_timestamp\n",
    ");\n",
    "\"\"\")"
   ]
  },
  {
   "cell_type": "markdown",
   "metadata": {},
   "source": [
    "### UPSERT"
   ]
  },
  {
   "cell_type": "code",
   "execution_count": null,
   "metadata": {},
   "outputs": [],
   "source": [
    "# data_to_insert = []\n",
    "# for _, row in old_hosts.iterrows():\n",
    "#     data_to_insert.append((\n",
    "#         row['sy_name'],\n",
    "#         row['sy_snum'],\n",
    "#         row['sy_pnum'],\n",
    "#     ))\n",
    "\n",
    "# conn.executemany(f\"\"\"\n",
    "#     INSERT INTO systems (sy_name, sy_snum, sy_pnum, last_updated)\n",
    "#     VALUES (?, ?, ?, current_timestamp)\n",
    "#     ON CONFLICT(sy_name)\n",
    "#     DO UPDATE SET\n",
    "#         sy_name = CASE WHEN excluded.sy_name != systems.sy_name THEN excluded.sy_name ELSE systems.sy_name END,\n",
    "#         sy_snum = CASE WHEN excluded.sy_snum != systems.sy_snum THEN excluded.sy_snum ELSE systems.sy_snum END,\n",
    "#         sy_pnum = CASE WHEN excluded.sy_pnum != systems.sy_pnum THEN excluded.sy_pnum ELSE systems.sy_pnum END,\n",
    "#         last_updated = current_timestamp\n",
    "#     WHERE\n",
    "#         systems.sy_snum != excluded.sy_snum OR\n",
    "#         systems.sy_pnum != excluded.sy_pnum;\n",
    "# \"\"\", data_to_insert)"
   ]
  },
  {
   "cell_type": "markdown",
   "metadata": {},
   "source": [
    "### Checks"
   ]
  },
  {
   "cell_type": "markdown",
   "metadata": {},
   "source": [
    "##### Metadata"
   ]
  },
  {
   "cell_type": "code",
   "execution_count": null,
   "metadata": {},
   "outputs": [],
   "source": [
    "pd.read_sql_query(\"\"\"PRAGMA table_info('systems');\"\"\", conn)"
   ]
  },
  {
   "cell_type": "markdown",
   "metadata": {},
   "source": [
    "##### All"
   ]
  },
  {
   "cell_type": "code",
   "execution_count": null,
   "metadata": {},
   "outputs": [],
   "source": [
    "pd.read_sql_query(\"\"\"SELECT * FROM systems\"\"\", conn)"
   ]
  },
  {
   "cell_type": "markdown",
   "metadata": {},
   "source": [
    "##### Count"
   ]
  },
  {
   "cell_type": "code",
   "execution_count": null,
   "metadata": {},
   "outputs": [],
   "source": [
    "pd.read_sql_query(\"SELECT COUNT(sy_name) FROM systems\", conn)"
   ]
  },
  {
   "cell_type": "code",
   "execution_count": null,
   "metadata": {},
   "outputs": [],
   "source": [
    "pd.read_sql_query(\"\"\"            \n",
    "    SELECT *\n",
    "    FROM systems\n",
    "    WHERE last_updated = (\n",
    "        SELECT MAX(last_updated)\n",
    "        FROM systems\n",
    "    );\n",
    "\"\"\", conn)"
   ]
  },
  {
   "cell_type": "code",
   "execution_count": null,
   "metadata": {},
   "outputs": [],
   "source": [
    "pd.read_sql_query(\"\"\"\n",
    "            SELECT *\n",
    "            FROM planets\n",
    "            WHERE last_updated = (\n",
    "                SELECT MAX(last_updated)\n",
    "                FROM planets\n",
    "            )\n",
    "            ORDER BY disc_pubdate;\n",
    "        \"\"\", conn)"
   ]
  },
  {
   "cell_type": "markdown",
   "metadata": {},
   "source": [
    "## Stars"
   ]
  },
  {
   "cell_type": "markdown",
   "metadata": {},
   "source": [
    "### Delete"
   ]
  },
  {
   "cell_type": "markdown",
   "metadata": {},
   "source": [
    "### Create"
   ]
  },
  {
   "cell_type": "code",
   "execution_count": null,
   "metadata": {},
   "outputs": [],
   "source": [
    "conn.execute(\"\"\"\n",
    "CREATE TABLE stars (\n",
    "    hostname TEXT PRIMARY KEY NOT NULL,\n",
    "    sy_name INTEGER,\n",
    "    last_updated DATETIME DEFAULT current_timestamp\n",
    ");\n",
    "\"\"\")"
   ]
  },
  {
   "cell_type": "code",
   "execution_count": null,
   "metadata": {},
   "outputs": [],
   "source": [
    "conn.execute(\"\"\"\n",
    "    ALTER TABLE stars\n",
    "      ADD st_spectype TEXT;\n",
    "\"\"\")"
   ]
  },
  {
   "cell_type": "markdown",
   "metadata": {},
   "source": [
    "### UPSERT"
   ]
  },
  {
   "cell_type": "markdown",
   "metadata": {},
   "source": [
    "### Spectype"
   ]
  },
  {
   "cell_type": "code",
   "execution_count": null,
   "metadata": {},
   "outputs": [],
   "source": [
    "\n",
    "\n",
    "data_to_insert = []\n",
    "for _, row in data_frame.iterrows():\n",
    "data_to_insert.append((\n",
    "row['st_spectype'],\n",
    "row['hostname']\n",
    "))\n",
    "for\n",
    "conn.executemany(\"\"\"\n",
    "UPDATE stars\n",
    "SET st_spectype = %s\n",
    "WHERE hostname = %s;\n",
    "\"\"\", data_to_insert)"
   ]
  },
  {
   "cell_type": "markdown",
   "metadata": {},
   "source": [
    "### Checks"
   ]
  },
  {
   "cell_type": "markdown",
   "metadata": {},
   "source": [
    "##### Metadata"
   ]
  },
  {
   "cell_type": "code",
   "execution_count": null,
   "metadata": {},
   "outputs": [],
   "source": [
    "pd.read_sql_query(\"\"\"PRAGMA table_info('stars');\"\"\", conn)"
   ]
  },
  {
   "cell_type": "markdown",
   "metadata": {},
   "source": [
    "##### All"
   ]
  },
  {
   "cell_type": "code",
   "execution_count": null,
   "metadata": {},
   "outputs": [],
   "source": [
    "pd.read_sql_query(\"\"\"SELECT * FROM stars\"\"\", conn)"
   ]
  },
  {
   "cell_type": "markdown",
   "metadata": {},
   "source": [
    "##### Count"
   ]
  },
  {
   "cell_type": "code",
   "execution_count": null,
   "metadata": {},
   "outputs": [],
   "source": [
    "pd.read_sql_query(\"\"\"SELECT COUNT(hostname) FROM stars\"\"\", conn)"
   ]
  },
  {
   "cell_type": "markdown",
   "metadata": {},
   "source": [
    "## check for tables"
   ]
  },
  {
   "cell_type": "code",
   "execution_count": null,
   "metadata": {},
   "outputs": [],
   "source": [
    "pd.read_sql_query(\"\"\"SELECT name FROM sqlite_master WHERE type = 'table'\"\"\", conn)"
   ]
  },
  {
   "cell_type": "markdown",
   "metadata": {},
   "source": [
    "## Read planets"
   ]
  },
  {
   "cell_type": "markdown",
   "metadata": {},
   "source": [
    "##### Turn SQL to CSV for reading"
   ]
  },
  {
   "cell_type": "code",
   "execution_count": 14,
   "metadata": {},
   "outputs": [],
   "source": [
    "stars = pd.read_sql(\"\"\"SELECT * FROM stars\"\"\", conn)\n",
    "stars.to_csv('../stars_data.csv', index=False)\n"
   ]
  },
  {
   "cell_type": "markdown",
   "metadata": {},
   "source": [
    "##### Get most recent updated systems"
   ]
  },
  {
   "cell_type": "code",
   "execution_count": null,
   "metadata": {},
   "outputs": [],
   "source": [
    "pd.read_sql_query(\"\"\"\n",
    "SELECT * FROM systems\n",
    " WHERE last_updated = (\n",
    "  SELECT MAX(last_updated)\n",
    "    FROM systems\n",
    ");\"\"\", conn)"
   ]
  }
 ],
 "metadata": {
  "kernelspec": {
   "display_name": "Python 3",
   "language": "python",
   "name": "python3"
  },
  "language_info": {
   "codemirror_mode": {
    "name": "ipython",
    "version": 3
   },
   "file_extension": ".py",
   "mimetype": "text/x-python",
   "name": "python",
   "nbconvert_exporter": "python",
   "pygments_lexer": "ipython3",
   "version": "3.12.5"
  }
 },
 "nbformat": 4,
 "nbformat_minor": 2
}

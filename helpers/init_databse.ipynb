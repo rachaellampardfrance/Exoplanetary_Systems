{
 "cells": [
  {
   "cell_type": "code",
   "execution_count": 2,
   "metadata": {},
   "outputs": [],
   "source": [
    "import sqlite3\n",
    "import pandas as pd\n",
    "\n",
    "from helpers import tap_request, clean_data"
   ]
  },
  {
   "cell_type": "markdown",
   "metadata": {},
   "source": [
    "## Get planetary system data from archive"
   ]
  },
  {
   "cell_type": "code",
   "execution_count": null,
   "metadata": {},
   "outputs": [],
   "source": [
    "service_url = \"https://exoplanetarchive.ipac.caltech.edu/TAP\"\n",
    "ps_query = \"SELECT pl_name, hostname, sy_snum, sy_pnum, cb_flag, disc_pubdate FROM ps\"\n",
    "\n",
    "ps_df = tap_request(service_url=service_url, query=ps_query, sync_type=\"async\")\n",
    "ps_df.to_csv('planetary_systems.csv', index=False)"
   ]
  },
  {
   "cell_type": "code",
   "execution_count": 8,
   "metadata": {},
   "outputs": [],
   "source": [
    "sort_column = 'pl_name'\n",
    "\n",
    "ps_df = pd.read_csv(\"planetary_systems.csv\", index_col=False)\n",
    "ps_df = clean_data(ps_df, sort_column)\n"
   ]
  },
  {
   "cell_type": "markdown",
   "metadata": {},
   "source": [
    "#### see data frame"
   ]
  },
  {
   "cell_type": "code",
   "execution_count": null,
   "metadata": {},
   "outputs": [],
   "source": [
    "ps_df"
   ]
  },
  {
   "cell_type": "markdown",
   "metadata": {},
   "source": [
    "### basic append of new data if needed for testing"
   ]
  },
  {
   "cell_type": "code",
   "execution_count": null,
   "metadata": {},
   "outputs": [],
   "source": [
    "# ps_df.to_sql('planetary_systems', conn, if_exists='append', index=False)"
   ]
  },
  {
   "cell_type": "markdown",
   "metadata": {},
   "source": [
    "## Test dataframes"
   ]
  },
  {
   "cell_type": "code",
   "execution_count": 5,
   "metadata": {},
   "outputs": [],
   "source": [
    "df_1 = pd.read_csv(\"tests\\planetary_systems_1.csv\", index_col=False)\n",
    "df_2 = pd.read_csv(\"tests\\planetary_systems_2.csv\", index_col=False)"
   ]
  },
  {
   "cell_type": "code",
   "execution_count": null,
   "metadata": {},
   "outputs": [],
   "source": [
    "df_1"
   ]
  },
  {
   "cell_type": "code",
   "execution_count": null,
   "metadata": {},
   "outputs": [],
   "source": [
    "df_2"
   ]
  },
  {
   "cell_type": "markdown",
   "metadata": {},
   "source": [
    "## connect"
   ]
  },
  {
   "cell_type": "code",
   "execution_count": 15,
   "metadata": {},
   "outputs": [],
   "source": [
    "conn = sqlite3.connect(\"../database.db\")\n",
    "# conn = sqlite3.connect(\"test_database.db\")\n",
    "cursor = conn.cursor()"
   ]
  },
  {
   "cell_type": "markdown",
   "metadata": {},
   "source": [
    "## Delete"
   ]
  },
  {
   "cell_type": "code",
   "execution_count": null,
   "metadata": {},
   "outputs": [],
   "source": [
    "# conn.execute(\"\"\"DROP TABLE IF EXISTS planetary_systems\"\"\")"
   ]
  },
  {
   "cell_type": "code",
   "execution_count": null,
   "metadata": {},
   "outputs": [],
   "source": [
    "# conn.execute(\"\"\"DROP TABLE IF EXISTS stellar_hosts\"\"\")"
   ]
  },
  {
   "cell_type": "markdown",
   "metadata": {},
   "source": [
    "## Create"
   ]
  },
  {
   "cell_type": "code",
   "execution_count": null,
   "metadata": {},
   "outputs": [],
   "source": [
    "conn.execute(\"\"\"\n",
    "CREATE TABLE planetary_systems (\n",
    "    pl_name TEXT PRIMARY KEY NOT NULL,\n",
    "    hostname TEXT,\n",
    "    sy_snum INTEGER,\n",
    "    sy_pnum INTEGER,\n",
    "    cb_flag INTEGER,\n",
    "    disc_pubdate INTEGER,\n",
    "    last_updated DATETIME DEFAULT current_timestamp\n",
    ");\n",
    "\"\"\")"
   ]
  },
  {
   "cell_type": "code",
   "execution_count": null,
   "metadata": {},
   "outputs": [],
   "source": [
    "conn.execute(\"\"\"\n",
    "CREATE TABLE stellar_hosts (\n",
    "    sy_name TEXT PRIMARY KEY NOT NULL,\n",
    "    sy_snum INTEGER,\n",
    "    sy_pnum INTEGER,\n",
    "    last_updated DATETIME DEFAULT current_timestamp\n",
    ");\n",
    "\"\"\")"
   ]
  },
  {
   "cell_type": "markdown",
   "metadata": {},
   "source": [
    "## UPSERT into data base (WIP)"
   ]
  },
  {
   "cell_type": "markdown",
   "metadata": {},
   "source": [
    "### Planetary Systems"
   ]
  },
  {
   "cell_type": "code",
   "execution_count": 35,
   "metadata": {},
   "outputs": [],
   "source": [
    "# data_to_insert = []\n",
    "# # for _, row in df_1.iterrows():\n",
    "# # for _, row in df_2.iterrows():\n",
    "# for _, row in ps_df.iterrows():\n",
    "#     data_to_insert.append((\n",
    "#         row['pl_name'],\n",
    "#         row['hostname'],\n",
    "#         row['sy_snum'],\n",
    "#         row['sy_pnum'],\n",
    "#         row['cb_flag'],\n",
    "#         row['disc_pubdate']\n",
    "#     ))\n",
    "\n",
    "# conn.executemany(f\"\"\"\n",
    "#     INSERT INTO planetary_systems (pl_name, hostname, sy_snum, sy_pnum, cb_flag, disc_pubdate, last_updated)\n",
    "#     VALUES (?, ?, ?, ?, ?, ?, current_timestamp)\n",
    "#     ON CONFLICT(pl_name)\n",
    "#     DO UPDATE SET\n",
    "#         hostname = CASE WHEN excluded.hostname != planetary_systems.hostname THEN excluded.hostname ELSE planetary_systems.hostname END,\n",
    "#         sy_snum = CASE WHEN excluded.sy_snum != planetary_systems.sy_snum THEN excluded.sy_snum ELSE planetary_systems.sy_snum END,\n",
    "#         sy_pnum = CASE WHEN excluded.sy_pnum != planetary_systems.sy_pnum THEN excluded.sy_pnum ELSE planetary_systems.sy_pnum END,\n",
    "#         cb_flag = CASE WHEN excluded.cb_flag != planetary_systems.cb_flag THEN excluded.cb_flag ELSE planetary_systems.cb_flag END,\n",
    "#         last_updated = current_timestamp\n",
    "#     WHERE\n",
    "#         planetary_systems.sy_snum != excluded.sy_snum OR\n",
    "#         planetary_systems.sy_pnum != excluded.sy_pnum OR\n",
    "#         planetary_systems.cb_flag != excluded.cb_flag OR\n",
    "#         planetary_systems.hostname != excluded.hostname;\n",
    "# \"\"\", data_to_insert)"
   ]
  },
  {
   "cell_type": "markdown",
   "metadata": {},
   "source": [
    "### Stellar Hosts"
   ]
  },
  {
   "cell_type": "code",
   "execution_count": 11,
   "metadata": {},
   "outputs": [],
   "source": [
    "# old_hosts = pd.read_csv(\"../static/20241206/stellar_hosts20241206.csv\")"
   ]
  },
  {
   "cell_type": "code",
   "execution_count": null,
   "metadata": {},
   "outputs": [],
   "source": [
    "# old_hosts"
   ]
  },
  {
   "cell_type": "code",
   "execution_count": null,
   "metadata": {},
   "outputs": [],
   "source": [
    "# data_to_insert = []\n",
    "# for _, row in old_hosts.iterrows():\n",
    "#     data_to_insert.append((\n",
    "#         row['sy_name'],\n",
    "#         row['sy_snum'],\n",
    "#         row['sy_pnum'],\n",
    "#     ))\n",
    "\n",
    "# conn.executemany(f\"\"\"\n",
    "#     INSERT INTO stellar_hosts (sy_name, sy_snum, sy_pnum, last_updated)\n",
    "#     VALUES (?, ?, ?, current_timestamp)\n",
    "#     ON CONFLICT(sy_name)\n",
    "#     DO UPDATE SET\n",
    "#         sy_name = CASE WHEN excluded.sy_name != stellar_hosts.sy_name THEN excluded.sy_name ELSE stellar_hosts.sy_name END,\n",
    "#         sy_snum = CASE WHEN excluded.sy_snum != stellar_hosts.sy_snum THEN excluded.sy_snum ELSE stellar_hosts.sy_snum END,\n",
    "#         sy_pnum = CASE WHEN excluded.sy_pnum != stellar_hosts.sy_pnum THEN excluded.sy_pnum ELSE stellar_hosts.sy_pnum END,\n",
    "#         last_updated = current_timestamp\n",
    "#     WHERE\n",
    "#         stellar_hosts.sy_snum != excluded.sy_snum OR\n",
    "#         stellar_hosts.sy_pnum != excluded.sy_pnum;\n",
    "# \"\"\", data_to_insert)"
   ]
  },
  {
   "cell_type": "markdown",
   "metadata": {},
   "source": [
    "## check for tables"
   ]
  },
  {
   "cell_type": "code",
   "execution_count": null,
   "metadata": {},
   "outputs": [],
   "source": [
    "pd.read_sql_query(\"\"\"SELECT name FROM sqlite_master WHERE type = 'table'\"\"\", conn)"
   ]
  },
  {
   "cell_type": "markdown",
   "metadata": {},
   "source": [
    "## check table metadata"
   ]
  },
  {
   "cell_type": "code",
   "execution_count": null,
   "metadata": {},
   "outputs": [],
   "source": [
    "pd.read_sql_query(\"\"\"PRAGMA table_info('planetary_systems');\"\"\", conn)"
   ]
  },
  {
   "cell_type": "code",
   "execution_count": null,
   "metadata": {},
   "outputs": [],
   "source": [
    "pd.read_sql_query(\"\"\"PRAGMA table_info('stellar_hosts');\"\"\", conn)"
   ]
  },
  {
   "cell_type": "markdown",
   "metadata": {},
   "source": [
    "## Read planetary_systems"
   ]
  },
  {
   "cell_type": "markdown",
   "metadata": {},
   "source": [
    "##### Get planet names from planetary_systems"
   ]
  },
  {
   "cell_type": "code",
   "execution_count": null,
   "metadata": {},
   "outputs": [],
   "source": [
    "pd.read_sql_query(\"\"\"SELECT * FROM planetary_systems\"\"\", conn)"
   ]
  },
  {
   "cell_type": "markdown",
   "metadata": {},
   "source": [
    "##### Get count from planetary_systems"
   ]
  },
  {
   "cell_type": "code",
   "execution_count": null,
   "metadata": {},
   "outputs": [],
   "source": [
    "pd.read_sql_query(\"SELECT COUNT(pl_name) FROM planetary_systems\", conn)"
   ]
  },
  {
   "cell_type": "markdown",
   "metadata": {},
   "source": [
    "##### Get all from stellar_hosts"
   ]
  },
  {
   "cell_type": "code",
   "execution_count": null,
   "metadata": {},
   "outputs": [],
   "source": [
    "pd.read_sql_query(\"\"\"SELECT * FROM stellar_hosts\"\"\", conn)"
   ]
  },
  {
   "cell_type": "markdown",
   "metadata": {},
   "source": [
    "##### Get count from stellar_hosts"
   ]
  },
  {
   "cell_type": "code",
   "execution_count": null,
   "metadata": {},
   "outputs": [],
   "source": [
    "pd.read_sql_query(\"SELECT COUNT(sy_name) FROM stellar_hosts\", conn)"
   ]
  },
  {
   "cell_type": "markdown",
   "metadata": {},
   "source": [
    "##### Get most recent updated stellar_hosts"
   ]
  },
  {
   "cell_type": "code",
   "execution_count": null,
   "metadata": {},
   "outputs": [],
   "source": [
    "pd.read_sql_query(\"\"\"\n",
    "SELECT * FROM stellar_hosts\n",
    " WHERE last_updated = (\n",
    "  SELECT MAX(last_updated)\n",
    "    FROM stellar_hosts\n",
    ");\"\"\", conn)"
   ]
  },
  {
   "cell_type": "markdown",
   "metadata": {},
   "source": [
    "##### Get all from planetary_systems by stellar_hosts specific system name"
   ]
  },
  {
   "cell_type": "code",
   "execution_count": null,
   "metadata": {},
   "outputs": [],
   "source": [
    "pd.read_sql_query(\"\"\"\n",
    "SELECT *\n",
    "FROM   planetary_systems\n",
    "WHERE  hostname=(\n",
    "  SELECT sy_name \n",
    "  FROM   stellar_hosts\n",
    "  WHERE  sy_name='14 Her'\n",
    "  )\n",
    "\"\"\", conn)"
   ]
  },
  {
   "cell_type": "markdown",
   "metadata": {},
   "source": [
    "## Commit and Close connection"
   ]
  },
  {
   "cell_type": "code",
   "execution_count": 25,
   "metadata": {},
   "outputs": [],
   "source": [
    "conn.commit()\n",
    "conn.close()"
   ]
  }
 ],
 "metadata": {
  "kernelspec": {
   "display_name": "Python 3",
   "language": "python",
   "name": "python3"
  },
  "language_info": {
   "codemirror_mode": {
    "name": "ipython",
    "version": 3
   },
   "file_extension": ".py",
   "mimetype": "text/x-python",
   "name": "python",
   "nbconvert_exporter": "python",
   "pygments_lexer": "ipython3",
   "version": "3.12.5"
  }
 },
 "nbformat": 4,
 "nbformat_minor": 2
}

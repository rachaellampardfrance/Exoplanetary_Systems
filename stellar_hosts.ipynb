{
 "cells": [
  {
   "cell_type": "markdown",
   "metadata": {},
   "source": [
    "# Stellar Hosts Data"
   ]
  },
  {
   "cell_type": "markdown",
   "metadata": {},
   "source": [
    "All data from NASAs Steller Hosts database DOI: 10.26133/NEA40"
   ]
  },
  {
   "cell_type": "code",
   "execution_count": 1,
   "metadata": {},
   "outputs": [],
   "source": [
    "from astroquery.utils.tap.core import TapPlus\n",
    "from io import StringIO\n",
    "from matplotlib import pyplot as plt\n",
    "import pandas as pd\n",
    "import numpy as np"
   ]
  },
  {
   "cell_type": "markdown",
   "metadata": {},
   "source": [
    "- TapPlus - required to make Tap requests to NASA's astronomical database ot get the stellar hosts table\n",
    "- StringIO - use to use Tap VOTable result as a tempory file so it can be read and saved as a .csv file\n",
    "- plt - to create visual plots for the data\n",
    "- pd - create pandas databases and dataframes\n",
    "- np - to work with the pandas dataframe   "
   ]
  },
  {
   "cell_type": "code",
   "execution_count": 10,
   "metadata": {},
   "outputs": [
    {
     "name": "stdout",
     "output_type": "stream",
     "text": [
      "INFO: Query finished. [astroquery.utils.tap.core]\n"
     ]
    }
   ],
   "source": [
    "# check the schema of the data, as there are 134 columns I've saved the data as a csv file for easier referal/reading to see what data I would like to work with\n",
    "tap_service = TapPlus(url=\"https://exoplanetarchive.ipac.caltech.edu/TAP\")\n",
    "query = \"SELECT * FROM TAP_SCHEMA.columns WHERE table_name LIKE 'stellarhosts'\"\n",
    "job = tap_service.launch_job_async(query)\n",
    "\n",
    "result_csv = job.get_results().to_pandas().to_csv(index=False)\n",
    "stellar_hosts_schema = pd.read_csv(StringIO(result_csv))\n",
    "stellar_hosts_schema.to_csv('stellar_hosts_schema.csv', index=False)"
   ]
  },
  {
   "cell_type": "markdown",
   "metadata": {},
   "source": [
    "> ^ Above\n",
    "Used to save a .csv of the stellar hosts table schema as there is over 100 columns to the table.\n",
    "is allows us to decide what information is important to us for the sake of our program."
   ]
  },
  {
   "cell_type": "code",
   "execution_count": 25,
   "metadata": {},
   "outputs": [
    {
     "name": "stdout",
     "output_type": "stream",
     "text": [
      "INFO: Query finished. [astroquery.utils.tap.core]\n"
     ]
    }
   ],
   "source": [
    "# make spefic query for the specific columns wanted \n",
    "tap_service = TapPlus(url=\"https://exoplanetarchive.ipac.caltech.edu/TAP\")\n",
    "query = \"SELECT sy_name, sy_snum, sy_pnum FROM stellarhosts\"\n",
    "job = tap_service.launch_job_async(query)\n",
    "\n",
    "# save stellar_hosts as dataframe and file for reference \n",
    "result_csv = job.get_results().to_pandas().to_csv(index=False)\n",
    "stellar_hosts = pd.read_csv(StringIO(result_csv))\n",
    "stellar_hosts.to_csv('stell_hosts.csv', index=False)"
   ]
  },
  {
   "cell_type": "markdown",
   "metadata": {},
   "source": [
    "> ^ Above: Used to save the desired column data from the stellar hosts VOTable file data to a Pandas database to then also save as a .csv for reference."
   ]
  },
  {
   "cell_type": "code",
   "execution_count": 36,
   "metadata": {},
   "outputs": [
    {
     "data": {
      "text/plain": [
       "np.int64(4300)"
      ]
     },
     "execution_count": 36,
     "metadata": {},
     "output_type": "execute_result"
    }
   ],
   "source": [
    "stellar_hosts.sy_name.count().sum()"
   ]
  },
  {
   "cell_type": "markdown",
   "metadata": {},
   "source": [
    "> ^ Above: see how many rows of data are in the database... this can be repeatable when running changes over the database (such as removing duplicates)."
   ]
  },
  {
   "cell_type": "code",
   "execution_count": 30,
   "metadata": {},
   "outputs": [],
   "source": [
    "stellar_hosts = stellar_hosts.sort_values(by=['sy_name'])\n",
    "stellar_hosts.to_csv('stell_hosts.csv', index=False)"
   ]
  },
  {
   "cell_type": "markdown",
   "metadata": {},
   "source": [
    "> ^ Above: organise pandas database by sy_name (system name)."
   ]
  },
  {
   "cell_type": "code",
   "execution_count": 35,
   "metadata": {},
   "outputs": [
    {
     "name": "stdout",
     "output_type": "stream",
     "text": [
      "Number of non-duplicate systems: 4300\n",
      "Number of duplicate systems: 0\n"
     ]
    }
   ],
   "source": [
    "# look over the data dase by the system names and see if there are duplicate columns\n",
    "duplicates = stellar_hosts.duplicated(subset=['sy_name'], keep='first')\n",
    "# as duplicates is a boolean series running .sum() will count every True value as Trues will be 1 and False's will be 0.\n",
    "print(f\"Number of non-duplicate systems: {stellar_hosts.sy_name.count().sum() - duplicates.sum()}\")\n",
    "print(f\"Number of duplicate systems: {duplicates.sum()}\")"
   ]
  },
  {
   "cell_type": "markdown",
   "metadata": {},
   "source": [
    "> ^ Above: there are a lot of duplicate systems as the database is a record od all planetary/star data, so the data we will be using is much smaller than the origional database"
   ]
  },
  {
   "cell_type": "code",
   "execution_count": 34,
   "metadata": {},
   "outputs": [],
   "source": [
    "stellar_hosts = stellar_hosts.drop_duplicates()"
   ]
  },
  {
   "cell_type": "markdown",
   "metadata": {},
   "source": [
    "> ^ Above: drop duplicate data from database as it contains dulplicate data for what we are looking into, the database has data for every star and planet, but we are wanting to look at the data by system. By dropping duplicates we are dropping any duplicate systems..."
   ]
  },
  {
   "cell_type": "markdown",
   "metadata": {},
   "source": [
    "> [!NOTE] \n",
    "> At this point we will want to re-run the .count().sum() function above to see if the data has been removed."
   ]
  },
  {
   "cell_type": "code",
   "execution_count": 37,
   "metadata": {},
   "outputs": [],
   "source": [
    "stellar_hosts.to_csv('stell_hosts.csv', index=False)"
   ]
  },
  {
   "cell_type": "markdown",
   "metadata": {},
   "source": [
    "> ^ Above: re-writing the stellar_hosts.csv file to represent the database we are currently working with."
   ]
  },
  {
   "cell_type": "code",
   "execution_count": 75,
   "metadata": {},
   "outputs": [
    {
     "name": "stdout",
     "output_type": "stream",
     "text": [
      "sy_pnum     1    2    3   4   5  6  7  8\n",
      "sy_snum                                 \n",
      "1        3032  594  189  65  23  9  1  1\n",
      "2         266   41   18   9   3  1  0  0\n",
      "3          37    5    0   1   2  1  0  0\n",
      "4           2    0    0   0   0  0  0  0\n"
     ]
    }
   ],
   "source": [
    "stellar_df = pd.DataFrame(stellar_hosts)\n",
    "\n",
    "grouped = stellar_df.groupby(['sy_snum', 'sy_pnum']).size().unstack(fill_value=0)\n",
    "\n",
    "print(grouped)\n",
    "# print(stellar_df)"
   ]
  },
  {
   "cell_type": "code",
   "execution_count": 86,
   "metadata": {},
   "outputs": [
    {
     "name": "stdout",
     "output_type": "stream",
     "text": [
      "[0 1 2 3]\n",
      "4\n"
     ]
    }
   ],
   "source": [
    "indices = np.arange(len(grouped))\n",
    "print(indices)\n",
    "print(len(grouped))"
   ]
  },
  {
   "cell_type": "code",
   "execution_count": 88,
   "metadata": {},
   "outputs": [
    {
     "data": {
      "image/png": "[encoded data removed]",
      "text/plain": [
       "<Figure size 1600x500 with 2 Axes>"
      ]
     },
     "metadata": {},
     "output_type": "display_data"
    }
   ],
   "source": [
    "stellar_df = pd.DataFrame(stellar_hosts)\n",
    "\n",
    "grouped = stellar_df.groupby(['sy_snum', 'sy_pnum']).size().unstack(fill_value=0)\n",
    "\n",
    "fig, ax = plt.subplots(1, 2, figsize=(16, 5))\n",
    "\n",
    "bar_width = 0.1\n",
    "indices = np.arange(len(grouped))\n",
    "\n",
    "i = 0\n",
    "while i < 2:\n",
    "    for j, sy_pnum_val in enumerate(grouped.columns):\n",
    "        # label = creates the planets 1-8 side labels legend\n",
    "        bars = ax[i].bar(x=indices + j * bar_width, height=grouped[sy_pnum_val], width=bar_width, label=f'{sy_pnum_val}')\n",
    "\n",
    "        # print frequency values atop the bars\n",
    "        for bar in bars:\n",
    "            yval = bar.get_height()\n",
    "            if yval > 0:\n",
    "                ax[i].text(bar.get_x() + bar.get_width()/2, yval + 0.1, int(yval), ha='center', va='bottom', fontsize=8)\n",
    "    i += 1\n",
    "\n",
    "ax[0].set_xlabel('System Star Count')\n",
    "ax[0].set_ylabel('Frequency')\n",
    "ax[0].set_title('Planet frequency to Stars in system')\n",
    "ax[0].set_xticks(indices + bar_width * 4)\n",
    "ax[0].set_xticklabels(grouped.index)\n",
    "ax[0].legend(title='Planets')\n",
    "\n",
    "\n",
    "ax[1].set_yscale('log')\n",
    "ax[1].set_xlabel('System Star Count')\n",
    "ax[1].set_ylabel('Frequency')\n",
    "ax[1].set_title('Planet frequency to Stars in system (log)')\n",
    "ax[1].set_xticks(indices + bar_width * 4)\n",
    "ax[1].set_xticklabels(grouped.index)\n",
    "ax[1].legend(title='Planets')\n",
    "\n",
    "plt.show()"
   ]
  },
  {
   "cell_type": "markdown",
   "metadata": {},
   "source": [
    "> ^ Above: creates side by side representations of planet frequency to singluar star systems and binary star systems. One is an actual visual representation of the frequencies in relation to one another and the other is a log representaion to make the results more readable as there is great variance of the data "
   ]
  }
 ],
 "metadata": {
  "kernelspec": {
   "display_name": "Python 3",
   "language": "python",
   "name": "python3"
  },
  "language_info": {
   "codemirror_mode": {
    "name": "ipython",
    "version": 3
   },
   "file_extension": ".py",
   "mimetype": "text/x-python",
   "name": "python",
   "nbconvert_exporter": "python",
   "pygments_lexer": "ipython3",
   "version": "3.12.5"
  }
 },
 "nbformat": 4,
 "nbformat_minor": 2
}
